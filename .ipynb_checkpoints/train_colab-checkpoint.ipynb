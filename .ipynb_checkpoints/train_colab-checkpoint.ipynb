{
 "cells": [
  {
   "cell_type": "code",
   "execution_count": null,
   "metadata": {},
   "outputs": [],
   "source": [
    "from utils.listCSV import toCsvFile\n",
    "from utils.embPerson import embededFace\n",
    "from utils.embAll import embededAll\n",
    "from utils.annModel import  Training\n",
    "\n",
    "if __name__ == '__main__':\n",
    "\n",
    "    df, newNames = toCsvFile()\n",
    "    embededFace(newNames)\n",
    "    x_train, y_train, NUMBER_OF_CLASSES = embededAll(df, newNames)\n",
    "    Training(x_train, y_train, df, NUMBER_OF_CLASSES)\n"
   ]
  }
 ],
 "metadata": {
  "kernelspec": {
   "display_name": "Python 3",
   "language": "python",
   "name": "python3"
  },
  "language_info": {
   "codemirror_mode": {
    "name": "ipython",
    "version": 3
   },
   "file_extension": ".py",
   "mimetype": "text/x-python",
   "name": "python",
   "nbconvert_exporter": "python",
   "pygments_lexer": "ipython3",
   "version": "3.7.3"
  }
 },
 "nbformat": 4,
 "nbformat_minor": 2
}
